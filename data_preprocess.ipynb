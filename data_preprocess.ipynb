{
 "cells": [
  {
   "cell_type": "code",
   "execution_count": 6,
   "metadata": {},
   "outputs": [],
   "source": [
    "import pandas as pd\n",
    "import numpy as np\n",
    "from konlpy.tag import Twitter\n",
    "import re\n",
    "import os\n",
    "\n",
    "import time\n",
    "import hashlib\n",
    "import json\n",
    "from functools import partial"
   ]
  },
  {
   "cell_type": "code",
   "execution_count": 3,
   "metadata": {},
   "outputs": [],
   "source": [
    "item_df = pd.read_csv(\"data/sample_item.csv\",sep=\"▒\",na_values=\"\",engine='python')\n",
    "review_df = pd.read_csv(\"data/sample_review.csv\",sep='▒',na_values=\"\",engine='python')\n",
    "score_df = pd.read_csv(\"data/score.csv\",sep=\"▒\",engine='python')\n",
    "\n",
    "# review_tag는 json파일로 되어 있음. list 형태로 복원\n",
    "review_df.review_tag = review_df.review_tag.apply(json.loads)\n",
    "\n",
    "item_df = item_df.fillna(\"\")\n",
    "review_df = review_df.fillna(\"\")"
   ]
  },
  {
   "cell_type": "markdown",
   "metadata": {},
   "source": [
    "### 크롤링 데이터 후처리"
   ]
  },
  {
   "cell_type": "markdown",
   "metadata": {},
   "source": [
    "#### 1. 고유 명사 수 세기(얼마나 단어에 의미있는 것들이 존재하는가에 대한 지표)"
   ]
  },
  {
   "cell_type": "code",
   "execution_count": 7,
   "metadata": {},
   "outputs": [],
   "source": [
    "twitter = Twitter()\n",
    "count_unique_nouns = lambda text : len(set(twitter.nouns(text)))\n",
    "\n",
    "# review_df['review_accuracy'] = review_df.review.apply(count_unique_nouns)"
   ]
  },
  {
   "cell_type": "markdown",
   "metadata": {},
   "source": [
    "#### 2. 리뷰의 고유 ID 지정해주기"
   ]
  },
  {
   "cell_type": "code",
   "execution_count": null,
   "metadata": {},
   "outputs": [],
   "source": [
    "convert_hash = lambda text : hashlib.sha224(text.encode(\"utf-8\")).hexdigest()\n",
    "review_df['review_id'] = review_df.nv_mid.astype(str).apply(convert_hash) +\\\n",
    "                        (review_df.review_atc.astype(str) + review_df.review_title.astype(str) + review_df.review_date.astype(str)).apply(convert_hash)"
   ]
  },
  {
   "cell_type": "markdown",
   "metadata": {},
   "source": [
    "#### 3. 리뷰 별 Tag값 지정하기"
   ]
  },
  {
   "cell_type": "code",
   "execution_count": 14,
   "metadata": {},
   "outputs": [],
   "source": [
    "def calculate_tag(threshold,review):\n",
    "    # 리뷰 내 토큰 집합을 가져옴\n",
    "    tokens = set(twitter.morphs(review,stem=True,norm=True))\n",
    "    # score가 있는 토큰들을 모은 후, type별 score을 매김\n",
    "    results = score_df.loc[score_df.token.isin(tokens),['score','type']].groupby('type').sum()\n",
    "    # index\n",
    "    return results[results.score >=threshold].index.values"
   ]
  },
  {
   "cell_type": "code",
   "execution_count": null,
   "metadata": {},
   "outputs": [],
   "source": [
    "review_df['review_tag'] = review_df.review.apply(partial(calculate_tag,0.5))"
   ]
  },
  {
   "cell_type": "code",
   "execution_count": null,
   "metadata": {},
   "outputs": [],
   "source": [
    "review_df.review_tag = review_df.review_tag.apply(lambda x : json.dumps(list(x)))\n",
    "review_df.to_csv(\"data/sample_review.csv\",sep='▒',index=False)"
   ]
  },
  {
   "cell_type": "markdown",
   "metadata": {},
   "source": [
    "------------------- \n",
    "리뷰 별 Tag값 설정할 때의 Score는 Word2Vec 연산으로 도출해냄"
   ]
  },
  {
   "cell_type": "markdown",
   "metadata": {},
   "source": [
    "Word2Vec 연산은 아래와 같음"
   ]
  },
  {
   "cell_type": "code",
   "execution_count": 8,
   "metadata": {},
   "outputs": [
    {
     "name": "stdout",
     "output_type": "stream",
     "text": [
      "consumed time ---- 594.6248161792755\n"
     ]
    }
   ],
   "source": [
    "start_time = time.time()\n",
    "# review_accuracy가 5보다 크면 약간 더 문장같은 놈들이 나타나기 시작. 문장 같은 놈들을 대상으로 word2vec을 학습시키는 게 올바르다고 판단\n",
    "reviews = review_df[review_df.review_accuracy > 5]\n",
    "review_morph = reviews.review.apply(partial(twitter.morphs,norm=True,stem=True))\n",
    "sentences = review_morph.values\n",
    "print('consumed time ---- {}'.format(time.time()-start_time))"
   ]
  },
  {
   "cell_type": "code",
   "execution_count": 16,
   "metadata": {},
   "outputs": [],
   "source": [
    "from gensim.models import Word2Vec"
   ]
  },
  {
   "cell_type": "code",
   "execution_count": 35,
   "metadata": {},
   "outputs": [
    {
     "name": "stdout",
     "output_type": "stream",
     "text": [
      "consumed time ---- 2461.6247868537903\n"
     ]
    }
   ],
   "source": [
    "start_time = time.time()\n",
    "embedding_model = Word2Vec(sentences, \n",
    "                           size=200, # 200차원에서 연산하라\n",
    "                           window=2, # 앞뒤로 2개까지 보라\n",
    "                           min_count=100, # 코퍼스 내 출현 빈도가 100번 미만은 제외하라\n",
    "                           workers=2, # cpu는 2개\n",
    "                           iter=100, # 반복은 100번\n",
    "                           sg=1) # 학습은 CBOW와 Skip-Gram 중 후자\n",
    "print('consumed time ---- {}'.format(time.time()-start_time))"
   ]
  },
  {
   "cell_type": "code",
   "execution_count": 36,
   "metadata": {},
   "outputs": [],
   "source": [
    "# 가격\n",
    "pos_tokens = ['가격','금액','저렴','비싼','값']\n",
    "neg_tokens = ['품질','브랜드']\n",
    "prices = embedding_model.wv.most_similar(positive=pos_tokens,negative=neg_tokens,topn=50)\n",
    "price_df = pd.DataFrame(prices,columns=['token','score'])\n",
    "for token in pos_tokens:\n",
    "    price_df = price_df.append({\"token\":token,\"score\":0.5},ignore_index=True)\n",
    "price_df['type'] = '가격'\n"
   ]
  },
  {
   "cell_type": "code",
   "execution_count": 38,
   "metadata": {},
   "outputs": [
    {
     "data": {
      "text/plain": [
       "[('싼', 0.5054810047149658),\n",
       " ('싸게', 0.5040369033813477),\n",
       " ('돈', 0.4785744249820709),\n",
       " ('비싸게', 0.4498073160648346),\n",
       " ('만원', 0.4479735791683197),\n",
       " ('비싸', 0.4366980791091919),\n",
       " ('비싸지', 0.4230850040912628),\n",
       " ('할인', 0.3967007100582123),\n",
       " ('이정', 0.3931207060813904),\n",
       " ('값어치', 0.39125561714172363),\n",
       " ('싼값', 0.3898414671421051),\n",
       " ('비싸긴', 0.3888387680053711),\n",
       " ('비싸서', 0.37992507219314575),\n",
       " ('잘산', 0.37859806418418884),\n",
       " ('반값', 0.37528109550476074),\n",
       " ('착한', 0.3733900487422943),\n",
       " ('싸서', 0.36421823501586914),\n",
       " ('비싸고', 0.3635864853858948),\n",
       " ('싸고', 0.3635164499282837),\n",
       " ('비용', 0.3596600294113159),\n",
       " ('배송비', 0.35479292273521423),\n",
       " ('쿠폰', 0.35332295298576355),\n",
       " ('싸지', 0.350532203912735),\n",
       " ('득템', 0.34816092252731323),\n",
       " ('제값', 0.3458954095840454),\n",
       " ('십만원', 0.3438461422920227),\n",
       " ('투자', 0.3431118130683899),\n",
       " ('비싸다', 0.337691068649292),\n",
       " ('시중', 0.33513981103897095),\n",
       " ('이만', 0.32668745517730713),\n",
       " ('높은', 0.3241426348686218),\n",
       " ('싸니', 0.32204920053482056),\n",
       " ('천원', 0.32103508710861206),\n",
       " ('송료', 0.3172229528427124),\n",
       " ('비해', 0.31654977798461914),\n",
       " ('대비', 0.3157390356063843),\n",
       " ('산', 0.31486785411834717),\n",
       " ('솔직히', 0.313029944896698),\n",
       " ('000', 0.31286823749542236),\n",
       " ('비싸네', 0.31160587072372437),\n",
       " ('일해서', 0.3092442750930786),\n",
       " ('보급', 0.30844393372535706),\n",
       " ('비해서', 0.307595819234848),\n",
       " ('넘는', 0.3046610951423645),\n",
       " ('낮은', 0.299981951713562),\n",
       " ('싸다', 0.2975401282310486),\n",
       " ('옥션', 0.297539085149765),\n",
       " ('특가', 0.2975230813026428),\n",
       " ('행사', 0.29150819778442383),\n",
       " ('가성', 0.2910250425338745),\n",
       " ('맛', 0.2903531789779663),\n",
       " ('치고는', 0.2901950776576996),\n",
       " ('뜻한', 0.29016363620758057),\n",
       " ('기본', 0.28585225343704224),\n",
       " ('대설', 0.2842404842376709),\n",
       " ('적립금', 0.2841329574584961),\n",
       " ('양호', 0.283342182636261),\n",
       " ('심플', 0.28257325291633606),\n",
       " ('합리', 0.28208357095718384),\n",
       " ('비싸더', 0.28150609135627747),\n",
       " ('만치', 0.279613196849823),\n",
       " ('파는', 0.27679023146629333),\n",
       " ('세일', 0.2755855321884155),\n",
       " ('만큼', 0.27547308802604675),\n",
       " ('결재', 0.2744346261024475),\n",
       " ('최저', 0.2727634906768799),\n",
       " ('보강', 0.2721644341945648),\n",
       " ('느린', 0.2711257338523865),\n",
       " ('사길', 0.2679317891597748),\n",
       " ('고가', 0.2669530510902405),\n",
       " ('원', 0.2666023075580597),\n",
       " ('대사', 0.26585114002227783),\n",
       " ('적당한', 0.2656492292881012),\n",
       " ('비는', 0.2656407356262207),\n",
       " ('감수', 0.2648431062698364),\n",
       " ('만큼의', 0.26466649770736694),\n",
       " ('가치', 0.2640475034713745),\n",
       " ('부담', 0.2632044553756714),\n",
       " ('안락', 0.2623021900653839),\n",
       " ('부담스럽', 0.26228708028793335),\n",
       " ('적은', 0.2622104287147522),\n",
       " ('적절한', 0.2616882622241974),\n",
       " ('탄탄', 0.2616353929042816),\n",
       " ('술', 0.2611234486103058),\n",
       " ('비하면', 0.25927627086639404),\n",
       " ('진한', 0.2591402530670166),\n",
       " ('빡빡', 0.2584253251552582),\n",
       " ('돈값', 0.2581975758075714),\n",
       " ('기대한', 0.25768208503723145),\n",
       " ('나은', 0.2574031949043274),\n",
       " ('사긴', 0.2565406560897827),\n",
       " ('조잡', 0.25635775923728943),\n",
       " ('게이', 0.25446274876594543),\n",
       " ('카드', 0.2542837858200073),\n",
       " ('찾는', 0.2541384696960449),\n",
       " ('네이버', 0.25367432832717896),\n",
       " ('사기', 0.2534573972225189),\n",
       " ('대비해서', 0.25258055329322815),\n",
       " ('묵직', 0.25204330682754517),\n",
       " ('늦는', 0.2514216899871826)]"
      ]
     },
     "execution_count": 38,
     "metadata": {},
     "output_type": "execute_result"
    }
   ],
   "source": [
    "prices = embedding_model.wv.most_similar(positive=pos_tokens,negative=neg_tokens,topn=100)\n",
    "prices"
   ]
  },
  {
   "cell_type": "code",
   "execution_count": 44,
   "metadata": {},
   "outputs": [
    {
     "data": {
      "text/plain": [
       "[('시공', 0.5436540246009827),\n",
       " ('출고', 0.47407475113868713),\n",
       " ('송이', 0.4582885503768921),\n",
       " ('아저씨', 0.44014111161231995),\n",
       " ('기사', 0.4315301179885864),\n",
       " ('해피', 0.4307760000228882),\n",
       " ('토요일', 0.41523978114128113),\n",
       " ('운송', 0.41475847363471985),\n",
       " ('전화', 0.40838292241096497),\n",
       " ('지방', 0.4030998647212982),\n",
       " ('발송', 0.4020189046859741),\n",
       " ('업체', 0.3958789110183716),\n",
       " ('오전', 0.39191991090774536),\n",
       " ('상담', 0.3891047239303589),\n",
       " ('날짜', 0.38860392570495605),\n",
       " ('AS', 0.38429200649261475),\n",
       " ('콜센터', 0.376819908618927),\n",
       " ('설치', 0.3753424882888794),\n",
       " ('전날', 0.37398844957351685),\n",
       " ('포장', 0.3729618489742279),\n",
       " ('경동', 0.37017127871513367),\n",
       " ('늦게', 0.3698875904083252),\n",
       " ('송전', 0.3687395453453064),\n",
       " ('운반', 0.3670470714569092),\n",
       " ('저녁', 0.36628586053848267),\n",
       " ('접수', 0.3660777509212494),\n",
       " ('배송비', 0.3649386167526245),\n",
       " ('도착', 0.3644053637981415),\n",
       " ('오셔', 0.36439308524131775),\n",
       " ('제조', 0.3626255691051483),\n",
       " ('배송지', 0.36095768213272095),\n",
       " ('집앞', 0.35982680320739746),\n",
       " ('지정', 0.35917165875434875),\n",
       " ('콜', 0.3577743172645569),\n",
       " ('as', 0.35750746726989746),\n",
       " ('약속', 0.35467714071273804),\n",
       " ('통화', 0.34958916902542114),\n",
       " ('배', 0.3483371436595917),\n",
       " ('오시', 0.34780240058898926),\n",
       " ('서비스', 0.34515511989593506),\n",
       " ('당일', 0.34464341402053833),\n",
       " ('지역', 0.3445752263069153),\n",
       " ('친절한', 0.34453296661376953),\n",
       " ('금요일', 0.34363237023353577),\n",
       " ('통보', 0.34304216504096985),\n",
       " ('연락', 0.3429064452648163),\n",
       " ('오후', 0.34024330973625183),\n",
       " ('안내', 0.33863186836242676),\n",
       " ('친절', 0.33823731541633606),\n",
       " ('아침', 0.33809468150138855),\n",
       " ('지연', 0.3353070020675659),\n",
       " ('월요일', 0.33325454592704773),\n",
       " ('도착했', 0.3323918581008911),\n",
       " ('주소', 0.33230045437812805),\n",
       " ('반송', 0.3314130902290344),\n",
       " ('직배', 0.3304550051689148),\n",
       " ('일날', 0.33015039563179016),\n",
       " ('부탁드렸', 0.3268481492996216),\n",
       " ('오기', 0.3267142176628113),\n",
       " ('수령', 0.3265663981437683),\n",
       " ('도착한', 0.32639867067337036),\n",
       " ('오고', 0.32566356658935547),\n",
       " ('사전', 0.32556262612342834),\n",
       " ('불친절', 0.32540714740753174),\n",
       " ('목요일', 0.32495516538619995),\n",
       " ('화요일', 0.32461676001548767),\n",
       " ('조립', 0.32384783029556274),\n",
       " ('해주신', 0.3233248293399811),\n",
       " ('조율', 0.3225809931755066),\n",
       " ('오는', 0.3225538432598114),\n",
       " ('오신', 0.32174238562583923),\n",
       " ('문앞', 0.3216342031955719),\n",
       " ('답변', 0.3204585313796997),\n",
       " ('예약', 0.31978875398635864),\n",
       " ('센터', 0.31940633058547974),\n",
       " ('일요일', 0.31836116313934326),\n",
       " ('전화했', 0.3176625370979309),\n",
       " ('늦은', 0.3171573877334595),\n",
       " ('물류', 0.3169387876987457),\n",
       " ('일찍', 0.3163735270500183),\n",
       " ('문자', 0.3161328136920929),\n",
       " ('송료', 0.3154006600379944),\n",
       " ('설치는', 0.3148731589317322),\n",
       " ('친절하게', 0.31458085775375366),\n",
       " ('결재', 0.31424105167388916),\n",
       " ('방문', 0.313586562871933),\n",
       " ('친절했', 0.3135419487953186),\n",
       " ('고객', 0.31315892934799194),\n",
       " ('송장', 0.31199008226394653),\n",
       " ('늦네', 0.31186214089393616),\n",
       " ('문의', 0.31095725297927856),\n",
       " ('님', 0.3100607991218567),\n",
       " ('도착해서', 0.30973565578460693),\n",
       " ('친절히', 0.30788618326187134),\n",
       " ('판매', 0.3075086772441864),\n",
       " ('전화하니', 0.30622363090515137),\n",
       " ('오셨', 0.30341866612434387),\n",
       " ('수요일', 0.30289381742477417),\n",
       " ('응대', 0.30180472135543823),\n",
       " ('예정일', 0.3001111149787903),\n",
       " ('동봉', 0.2994139790534973),\n",
       " ('부재', 0.29766619205474854),\n",
       " ('제작', 0.2959277033805847),\n",
       " ('정확하게', 0.2933061122894287),\n",
       " ('부피', 0.29320400953292847),\n",
       " ('조회', 0.29280805587768555),\n",
       " ('설치하시', 0.29271915555000305),\n",
       " ('다음주', 0.2921410799026489),\n",
       " ('개봉', 0.2917003929615021),\n",
       " ('친절하고', 0.2902422845363617),\n",
       " ('경비실', 0.29003414511680603),\n",
       " ('날씨', 0.2895626127719879),\n",
       " ('친절하', 0.28871288895606995),\n",
       " ('교환', 0.2886100709438324),\n",
       " ('약속한', 0.2884535789489746),\n",
       " ('입금', 0.288167804479599),\n",
       " ('친절함', 0.2875990569591522),\n",
       " ('친절하신', 0.2866702079772949),\n",
       " ('결제', 0.28561997413635254),\n",
       " ('직원', 0.28549832105636597),\n",
       " ('느려', 0.2854423522949219),\n",
       " ('옮기는', 0.2844470739364624),\n",
       " ('오늘', 0.28419700264930725),\n",
       " ('네이버', 0.28361374139785767),\n",
       " ('미리', 0.2803339958190918),\n",
       " ('친절해서', 0.2793731689453125),\n",
       " ('공장', 0.27916592359542847),\n",
       " ('그날', 0.2790270745754242),\n",
       " ('대응', 0.27804648876190186),\n",
       " ('친절하셨', 0.2777833938598633),\n",
       " ('번호', 0.2776065766811371),\n",
       " ('조치', 0.27535584568977356),\n",
       " ('서울', 0.2738898694515228),\n",
       " ('추적', 0.27333351969718933),\n",
       " ('요청', 0.27323633432388306),\n",
       " ('더운', 0.2732335329055786),\n",
       " ('본사', 0.2726932764053345),\n",
       " ('팀', 0.2725635766983032),\n",
       " ('내주신', 0.2719746232032776),\n",
       " ('파손', 0.27185171842575073),\n",
       " ('받았', 0.2705838680267334),\n",
       " ('주시', 0.26989179849624634),\n",
       " ('무료', 0.26951122283935547),\n",
       " ('추석', 0.26923972368240356),\n",
       " ('회수', 0.26791760325431824),\n",
       " ('친절하시', 0.2676405906677246),\n",
       " ('왔', 0.2673789858818054),\n",
       " ('늦는', 0.2673457860946655),\n",
       " ('취소', 0.26532334089279175),\n",
       " ('유리', 0.2650150954723358)]"
      ]
     },
     "execution_count": 44,
     "metadata": {},
     "output_type": "execute_result"
    }
   ],
   "source": [
    "# 배송\n",
    "pos_tokens = ['배송','배달','택배']\n",
    "neg_tokens = ['물건']\n",
    "deliveries = embedding_model.wv.most_similar(positive=pos_tokens,negative=neg_tokens,topn=150)\n",
    "deliveries"
   ]
  },
  {
   "cell_type": "code",
   "execution_count": null,
   "metadata": {},
   "outputs": [],
   "source": [
    "# 가격\n",
    "pos_tokens = ['가격','금액','저렴','비싼','값']\n",
    "neg_tokens = ['품질','브랜드']\n",
    "prices = embedding_model.wv.most_similar(positive=pos_tokens,negative=neg_tokens,topn=50)\n",
    "price_df = pd.DataFrame(prices,columns=['token','score'])\n",
    "for token in pos_tokens:\n",
    "    price_df = price_df.append({\"token\":token,\"score\":0.5},ignore_index=True)\n",
    "price_df['type'] = '가격'\n",
    "\n",
    "# 배송\n",
    "pos_tokens = ['배송','배달','택배']\n",
    "neg_tokens = ['물건']\n",
    "deliveries = embedding_model.wv.most_similar(positive=pos_tokens,negative=neg_tokens,topn=30)\n",
    "delivery_df = pd.DataFrame(deliveries,columns=['token','score'])\n",
    "for token in pos_tokens:\n",
    "    delivery_df = delivery_df.append({\"token\":token,\"score\":0.5},ignore_index=True)\n",
    "delivery_df['type'] = '배송'\n",
    "\n",
    "# 품질\n",
    "pos_tokens = ['품질','성능','퀄리티']\n",
    "neg_tokens = ['가격','서비스']\n",
    "quality = embedding_model.wv.most_similar(positive=pos_tokens,negative=neg_tokens,topn=40)\n",
    "quality_df = pd.DataFrame(quality,columns=['token','score'])\n",
    "for token in pos_tokens:\n",
    "    quality_df = quality_df.append({\"token\":token,\"score\":0.5},ignore_index=True)\n",
    "quality_df['type'] = '품질'\n",
    "\n",
    "# 디자인\n",
    "pos_tokens = ['디자인','모양','스타일']\n",
    "neg_tokens = ['색깔']\n",
    "design = embedding_model.wv.most_similar(positive=pos_tokens,negative=neg_tokens,topn=80)\n",
    "design_df = pd.DataFrame(design,columns=['token','score'])\n",
    "for token in pos_tokens:\n",
    "    design_df = design_df.append({\"token\":token,\"score\":0.5},ignore_index=True)\n",
    "design_df['type'] = '디자인'\n",
    "\n",
    "# 조립\n",
    "pos_tokens = ['조립','설치','시공']\n",
    "neg_tokens = ['배송','배치']\n",
    "make = embedding_model.wv.most_similar(positive=pos_tokens,negative=neg_tokens,topn=50)\n",
    "make_df = pd.DataFrame(make,columns=['token','score'])\n",
    "for token in pos_tokens:\n",
    "    make_df = make_df.append({\"token\":token,\"score\":0.5},ignore_index=True)\n",
    "make_df['type'] = '조립'\n",
    "\n",
    "# 색\n",
    "pos_tokens = ['색','톤','색깔','색상','색감','색도']\n",
    "color = embedding_model.wv.most_similar(positive=pos_tokens,topn=200)\n",
    "color_df = pd.DataFrame(color,columns=['token','score'])\n",
    "for token in pos_tokens:\n",
    "    color_df = color_df.append({\"token\":token,\"score\":0.5},ignore_index=True)\n",
    "color_df['type'] = '색'"
   ]
  },
  {
   "cell_type": "code",
   "execution_count": null,
   "metadata": {},
   "outputs": [],
   "source": [
    "score_df = pd.concat([price_df,delivery_df,quality_df,design_df,make_df,color_df])"
   ]
  }
 ],
 "metadata": {
  "kernelspec": {
   "display_name": "Python 3",
   "language": "python",
   "name": "python3"
  },
  "language_info": {
   "codemirror_mode": {
    "name": "ipython",
    "version": 3
   },
   "file_extension": ".py",
   "mimetype": "text/x-python",
   "name": "python",
   "nbconvert_exporter": "python",
   "pygments_lexer": "ipython3",
   "version": "3.6.4"
  }
 },
 "nbformat": 4,
 "nbformat_minor": 2
}
