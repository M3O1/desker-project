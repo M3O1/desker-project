{
 "cells": [
  {
   "cell_type": "code",
   "execution_count": 13,
   "metadata": {},
   "outputs": [],
   "source": [
    "import time\n",
    "import re\n",
    "import json\n",
    "import math\n",
    "import logging\n",
    "\n",
    "import boto3\n",
    "from boto3.dynamodb.conditions import Key, Attr\n",
    "\n",
    "import requests\n",
    "from bs4 import BeautifulSoup"
   ]
  },
  {
   "cell_type": "code",
   "execution_count": 91,
   "metadata": {},
   "outputs": [],
   "source": [
    "base_url = 'https://search.shopping.naver.com/search/category.nhn'\n",
    "headers = {\n",
    "    \"accept\":\"text/html,application/xhtml+xml,application/xml;q=0.9,image/webp,image/apng,*/*;q=0.8\",\n",
    "    \"accept-encoding\":\"gzip, deflate, br\",\n",
    "    \"accept-language\":\"ko-KR,ko;q=0.9,en-US;q=0.8,en;q=0.7\",\n",
    "    \"user-agent\":\"Mozilla/5.0 (X11; Linux x86_64) AppleWebKit/537.36 (KHTML, like Gecko) Chrome/63.0.3239.132 Safari/537.36\"}\n",
    "params = {\n",
    "    'brand':0,\n",
    "    'cat_id':0,\n",
    "    \"productSet\":\"model\",\n",
    "    \"pagingIndex\":1,\n",
    "    'pagingSize':80,\n",
    "    \"viewType\":'list',\n",
    "    'sort':'date',\n",
    "    'frm':'NVSHBRD'\n",
    "}\n",
    "method = \"get\"\n",
    "logger = logging.getLogger(\"NvmidCrawler\")"
   ]
  },
  {
   "cell_type": "code",
   "execution_count": 92,
   "metadata": {},
   "outputs": [],
   "source": [
    "def requests_text(params):\n",
    "    try:\n",
    "        res = requests.request(method,\n",
    "                               base_url,\n",
    "                               params=params,\n",
    "                               headers=headers,\n",
    "                               timeout=5)\n",
    "        res_text = res.text\n",
    "        res_url = res.url\n",
    "    except requests.ConnectionError as e:\n",
    "        logger.error(e)\n",
    "        res_text = None\n",
    "        res_url = None\n",
    "    except requests.Timeout as e:\n",
    "        logger.error(e)\n",
    "        res_text = None\n",
    "        res_url = None\n",
    "    except requests.RequestException as e:\n",
    "        logger.error(e)\n",
    "        res_text = None\n",
    "        res_url = None\n",
    "    finally:\n",
    "        return res_text, res_url    "
   ]
  },
  {
   "cell_type": "code",
   "execution_count": 93,
   "metadata": {},
   "outputs": [],
   "source": [
    "def count_pages(res_text,res_url):\n",
    "    # 해당 Brand & Cat에 해당하는 검색 결과의 페이지 수를 가져오는 메소드\n",
    "    bsObj = BeautifulSoup(res_text,\"html.parser\")\n",
    "    try:\n",
    "        count_expr = bsObj.find(\"ul\",{'class':'snb_list'})\\\n",
    "                        .find(\"a\",{'class':'_productSet_total'})\\\n",
    "                        .find(text=re.compile(\"[\\d,]+\"))\n",
    "    except AttributeError as e:\n",
    "        logger.error(\"count_expr is missing ...url : {}\".format(res_url))\n",
    "        count_expr = \"0\"\n",
    "    total_count = int(re.sub(\"\\D\",\"\",count_expr))\n",
    "    paging_count = math.ceil(total_count / 80)\n",
    "    return paging_count"
   ]
  },
  {
   "cell_type": "code",
   "execution_count": 94,
   "metadata": {},
   "outputs": [],
   "source": [
    "def parse_item_context(res_text,res_url,brand_id,brand_title):\n",
    "    # item 창 파싱하기\n",
    "    bsObj = BeautifulSoup(res_text,\"html.parser\")\n",
    "    row = {\"brand_id\":brand_id,\"brand\":brand_title}\n",
    "    rows = []\n",
    "    for li in bsObj.find_all(\"li\",{\"class\":\"_itemSection\"}):\n",
    "        try:\n",
    "            row[\"nv_mid\"] = li.attrs['data-nv-mid']\n",
    "        except AttributeError as e:\n",
    "            logger.error(\"nvmid is missing... url : {}\".format(res_url))\n",
    "            continue\n",
    "        try:\n",
    "            info = li.find('div',{'class':\"info\"})\n",
    "            if info is None or not info.text:\n",
    "                raise AttributeError\n",
    "        except AttributeError as e:\n",
    "            logger.error(\"info is missing... url : {}\".format(res_url))\n",
    "            continue\n",
    "        try:\n",
    "            row[\"url\"] = li.a.attrs['href']\n",
    "        except AttributeError as e:\n",
    "            row['url'] = \"\"\n",
    "            logger.warning(\"url is missing... url : {}\".format(res_url))\n",
    "        try:\n",
    "            row[\"img_url\"] = li.img.attrs['data-original']\n",
    "        except AttributeError as e:\n",
    "            row['img_url'] = \"\"\n",
    "            logger.warning(\"image url is missing... url : {}\".format(res_url))\n",
    "        try:\n",
    "            row[\"item_title\"] = info.find('a',{'class':'tit'}).attrs['title']\n",
    "        except AttributeError as e:\n",
    "            row[\"item_title\"] = \"\"\n",
    "            logger.warning(\"item title is missing... url : {}\".format(res_url))\n",
    "        try:\n",
    "            span_price = info.find('span',{\"class\":\"price\"})\n",
    "            if span_price.text.strip() == \"판매중단\":\n",
    "                row['price'] = \"-1\"\n",
    "            else:\n",
    "                price_expr = span_price.em.text.strip()\n",
    "                row[\"price\"] = re.sub(\"\\D\",\"\",price_expr)\n",
    "                if int(row['price']) > 1e8:\n",
    "                    raise AttributeError\n",
    "        except AttributeError as e:\n",
    "            row[\"price\"] = \"-1\"\n",
    "            logger.warning(\"item price is missing... url : {}\".format(res_url))\n",
    "        try:\n",
    "            cat_expr = info.find('span',{'class':'depth'}).text.strip()\n",
    "            idx = 1\n",
    "            for expr in re.sub(\"\\n *\",\"\",cat_expr).split(\">\"):\n",
    "                row['{}th_category'.format(idx)] = expr.strip()\n",
    "                idx += 1\n",
    "        except AttributeError as e:\n",
    "            for idx in range(1,5):\n",
    "                row['{}th_category'.format(idx)] = \"\"\n",
    "            logger.warning(\"category is missing... url : {}\".format(res_url))\n",
    "\n",
    "        try:\n",
    "            row[\"item_spec\"] = info.find('span',{'class':'detail'}).text.strip()\n",
    "        except AttributeError as e:\n",
    "            row[\"item_spec\"] = \"\"\n",
    "            logger.warning(\"item spec is missing... url : {}\".format(res_url))\n",
    "        try:\n",
    "            date_expr =info.find('span',{'class':'date'}).text.strip()\n",
    "            row[\"reg_date\"] = re.search(\"\\d+.\\d+.\",date_expr).group(0)\n",
    "        except AttributeError as e:\n",
    "            row[\"reg_date\"] = datetime.strftime(datetime.now(),\"%Y.%m.\")\n",
    "            logger.warning(\"reg date is missing... url : {}\".format(res_url))\n",
    "        rows.append(row.copy())\n",
    "    return rows"
   ]
  },
  {
   "cell_type": "code",
   "execution_count": 95,
   "metadata": {},
   "outputs": [],
   "source": [
    "# Logging 설정\n",
    "logger = logging.getLogger(__name__) # \"__name__\"를 하면, root log는 제외시키고, 이 모듈 내에서 발생한 로그만 포함시킴. 없으면 requests 모듈에서 생긴 로그, boto3에서 생긴 로그 등이 포함되어 버림 그래서 지저분해짐\n",
    "logger.setLevel(logging.INFO)\n",
    "formatter = logging.Formatter('{\"method\" : \"crawling_nvmid\", \"time\" : \"%(asctime)s\", \"level\" : \"%(levelname)s\", \"message\" : \"%(message)s\"}')\n",
    "ch = logging.StreamHandler()\n",
    "ch.setLevel(logging.INFO)\n",
    "ch.setFormatter(formatter)\n",
    "logger.addHandler(ch)"
   ]
  },
  {
   "cell_type": "code",
   "execution_count": 96,
   "metadata": {},
   "outputs": [
    {
     "data": {
      "text/plain": [
       "{'ResponseMetadata': {'HTTPHeaders': {'connection': 'keep-alive',\n",
       "   'content-length': '215',\n",
       "   'content-type': 'text/xml',\n",
       "   'date': 'Fri, 09 Mar 2018 05:28:00 GMT',\n",
       "   'server': 'Server',\n",
       "   'x-amzn-requestid': '5ab8b712-0b5c-5e47-8453-e40e16fcf318'},\n",
       "  'HTTPStatusCode': 200,\n",
       "  'RequestId': '5ab8b712-0b5c-5e47-8453-e40e16fcf318',\n",
       "  'RetryAttempts': 0}}"
      ]
     },
     "execution_count": 96,
     "metadata": {},
     "output_type": "execute_result"
    }
   ],
   "source": [
    "# categorybrands에서 message 가져오기\n",
    "QueueName = \"categorybrands\"\n",
    "sqs = boto3.resource('sqs')\n",
    "queue = sqs.get_queue_by_name(QueueName=QueueName)\n",
    "\n",
    "messages = queue.receive_messages(AttributeNames=[\"All\"],\n",
    "                                MessageAttributeNames=['Page'],\n",
    "                                MaxNumberOfMessages=1,\n",
    "                                WaitTimeSeconds=3)\n",
    "\n",
    "msg = messages[0]\n",
    "data = json.loads(msg.body)\n",
    "msg.delete()"
   ]
  },
  {
   "cell_type": "code",
   "execution_count": 97,
   "metadata": {},
   "outputs": [
    {
     "name": "stderr",
     "output_type": "stream",
     "text": [
      "{\"method\" : \"crawling_nvmid\", \"time\" : \"2018-03-09 05:28:41,300\", \"level\" : \"INFO\", \"message\" : \"start to search brand[205696]|category[50001238] ... nums of paging : 8\"}\n",
      "{\"method\" : \"crawling_nvmid\", \"time\" : \"2018-03-09 05:28:41,300\", \"level\" : \"INFO\", \"message\" : \"start to search brand[205696]|category[50001238] ... nums of paging : 8\"}\n",
      "{\"method\" : \"crawling_nvmid\", \"time\" : \"2018-03-09 05:28:43,544\", \"level\" : \"INFO\", \"message\" : \"end to run\"}\n",
      "{\"method\" : \"crawling_nvmid\", \"time\" : \"2018-03-09 05:28:43,544\", \"level\" : \"INFO\", \"message\" : \"end to run\"}\n"
     ]
    }
   ],
   "source": [
    "items = []\n",
    "params['brand'] = data[\"brand_id\"]\n",
    "params['cat_id'] = data[\"category_id\"]\n",
    "params['pagingIndex'] = 1\n",
    "\n",
    "res_text, res_url = requests_text(params)\n",
    "item = parse_item_context(res_text,res_url,data['brand_id'],data['brand_title'])\n",
    "items.append(item)\n",
    "paging_count = count_pages(res_text,res_url)\n",
    "logger.info(\"start to search brand[{}]|category[{}] ... nums of paging : {}\"\\\n",
    "                 .format(data['brand_id'],data['category_id'],paging_count))\n",
    "start = time.time()\n",
    "for idx in range(2,paging_count):\n",
    "    params['pagingIndex'] = idx\n",
    "\n",
    "    res_text, res_url = requests_text(params)\n",
    "    item = parse_item_context(res_text,res_url,data['brand_id'],data['brand_title'])\n",
    "    items.append(item)\n",
    "    if res_text is None:\n",
    "        continue\n",
    "    end = time.time()\n",
    "    if (end-start)-delay > 0:\n",
    "        time.sleep(end-start-delay)\n",
    "    start = time.time()\n",
    "logger.info(\"end to run\")"
   ]
  },
  {
   "cell_type": "code",
   "execution_count": null,
   "metadata": {},
   "outputs": [],
   "source": [
    "items[0]"
   ]
  },
  {
   "cell_type": "markdown",
   "metadata": {},
   "source": [
    "### 1. dynamoDB 생성하고, 데이터를 추가하기"
   ]
  },
  {
   "cell_type": "code",
   "execution_count": 105,
   "metadata": {},
   "outputs": [],
   "source": [
    "dynamodb = boto3.resource(\"dynamodb\",region_name=\"ap-northeast-2\")"
   ]
  },
  {
   "cell_type": "code",
   "execution_count": 107,
   "metadata": {},
   "outputs": [
    {
     "ename": "ResourceInUseException",
     "evalue": "An error occurred (ResourceInUseException) when calling the CreateTable operation: Table already exists: nvmids",
     "output_type": "error",
     "traceback": [
      "\u001b[0;31m---------------------------------------------------------------------------\u001b[0m",
      "\u001b[0;31mResourceInUseException\u001b[0m                    Traceback (most recent call last)",
      "\u001b[0;32m<ipython-input-107-2bfaac8e2eff>\u001b[0m in \u001b[0;36m<module>\u001b[0;34m()\u001b[0m\n\u001b[1;32m     23\u001b[0m     ProvisionedThroughput={\n\u001b[1;32m     24\u001b[0m         \u001b[0;34m\"ReadCapacityUnits\"\u001b[0m \u001b[0;34m:\u001b[0m \u001b[0;36m20\u001b[0m\u001b[0;34m,\u001b[0m\u001b[0;34m\u001b[0m\u001b[0m\n\u001b[0;32m---> 25\u001b[0;31m         \u001b[0;34m\"WriteCapacityUnits\"\u001b[0m \u001b[0;34m:\u001b[0m \u001b[0;36m20\u001b[0m\u001b[0;34m,\u001b[0m\u001b[0;34m\u001b[0m\u001b[0m\n\u001b[0m\u001b[1;32m     26\u001b[0m     }\n\u001b[1;32m     27\u001b[0m )\n",
      "\u001b[0;32m~/anaconda3/lib/python3.6/site-packages/boto3/resources/factory.py\u001b[0m in \u001b[0;36mdo_action\u001b[0;34m(self, *args, **kwargs)\u001b[0m\n\u001b[1;32m    518\u001b[0m             \u001b[0;31m# instance via ``self``.\u001b[0m\u001b[0;34m\u001b[0m\u001b[0;34m\u001b[0m\u001b[0m\n\u001b[1;32m    519\u001b[0m             \u001b[0;32mdef\u001b[0m \u001b[0mdo_action\u001b[0m\u001b[0;34m(\u001b[0m\u001b[0mself\u001b[0m\u001b[0;34m,\u001b[0m \u001b[0;34m*\u001b[0m\u001b[0margs\u001b[0m\u001b[0;34m,\u001b[0m \u001b[0;34m**\u001b[0m\u001b[0mkwargs\u001b[0m\u001b[0;34m)\u001b[0m\u001b[0;34m:\u001b[0m\u001b[0;34m\u001b[0m\u001b[0m\n\u001b[0;32m--> 520\u001b[0;31m                 \u001b[0mresponse\u001b[0m \u001b[0;34m=\u001b[0m \u001b[0maction\u001b[0m\u001b[0;34m(\u001b[0m\u001b[0mself\u001b[0m\u001b[0;34m,\u001b[0m \u001b[0;34m*\u001b[0m\u001b[0margs\u001b[0m\u001b[0;34m,\u001b[0m \u001b[0;34m**\u001b[0m\u001b[0mkwargs\u001b[0m\u001b[0;34m)\u001b[0m\u001b[0;34m\u001b[0m\u001b[0m\n\u001b[0m\u001b[1;32m    521\u001b[0m \u001b[0;34m\u001b[0m\u001b[0m\n\u001b[1;32m    522\u001b[0m                 \u001b[0;32mif\u001b[0m \u001b[0mhasattr\u001b[0m\u001b[0;34m(\u001b[0m\u001b[0mself\u001b[0m\u001b[0;34m,\u001b[0m \u001b[0;34m'load'\u001b[0m\u001b[0;34m)\u001b[0m\u001b[0;34m:\u001b[0m\u001b[0;34m\u001b[0m\u001b[0m\n",
      "\u001b[0;32m~/anaconda3/lib/python3.6/site-packages/boto3/resources/action.py\u001b[0m in \u001b[0;36m__call__\u001b[0;34m(self, parent, *args, **kwargs)\u001b[0m\n\u001b[1;32m     81\u001b[0m                     operation_name, params)\n\u001b[1;32m     82\u001b[0m \u001b[0;34m\u001b[0m\u001b[0m\n\u001b[0;32m---> 83\u001b[0;31m         \u001b[0mresponse\u001b[0m \u001b[0;34m=\u001b[0m \u001b[0mgetattr\u001b[0m\u001b[0;34m(\u001b[0m\u001b[0mparent\u001b[0m\u001b[0;34m.\u001b[0m\u001b[0mmeta\u001b[0m\u001b[0;34m.\u001b[0m\u001b[0mclient\u001b[0m\u001b[0;34m,\u001b[0m \u001b[0moperation_name\u001b[0m\u001b[0;34m)\u001b[0m\u001b[0;34m(\u001b[0m\u001b[0;34m**\u001b[0m\u001b[0mparams\u001b[0m\u001b[0;34m)\u001b[0m\u001b[0;34m\u001b[0m\u001b[0m\n\u001b[0m\u001b[1;32m     84\u001b[0m \u001b[0;34m\u001b[0m\u001b[0m\n\u001b[1;32m     85\u001b[0m         \u001b[0mlogger\u001b[0m\u001b[0;34m.\u001b[0m\u001b[0mdebug\u001b[0m\u001b[0;34m(\u001b[0m\u001b[0;34m'Response: %r'\u001b[0m\u001b[0;34m,\u001b[0m \u001b[0mresponse\u001b[0m\u001b[0;34m)\u001b[0m\u001b[0;34m\u001b[0m\u001b[0m\n",
      "\u001b[0;32m~/anaconda3/lib/python3.6/site-packages/botocore/client.py\u001b[0m in \u001b[0;36m_api_call\u001b[0;34m(self, *args, **kwargs)\u001b[0m\n\u001b[1;32m    312\u001b[0m                     \"%s() only accepts keyword arguments.\" % py_operation_name)\n\u001b[1;32m    313\u001b[0m             \u001b[0;31m# The \"self\" in this scope is referring to the BaseClient.\u001b[0m\u001b[0;34m\u001b[0m\u001b[0;34m\u001b[0m\u001b[0m\n\u001b[0;32m--> 314\u001b[0;31m             \u001b[0;32mreturn\u001b[0m \u001b[0mself\u001b[0m\u001b[0;34m.\u001b[0m\u001b[0m_make_api_call\u001b[0m\u001b[0;34m(\u001b[0m\u001b[0moperation_name\u001b[0m\u001b[0;34m,\u001b[0m \u001b[0mkwargs\u001b[0m\u001b[0;34m)\u001b[0m\u001b[0;34m\u001b[0m\u001b[0m\n\u001b[0m\u001b[1;32m    315\u001b[0m \u001b[0;34m\u001b[0m\u001b[0m\n\u001b[1;32m    316\u001b[0m         \u001b[0m_api_call\u001b[0m\u001b[0;34m.\u001b[0m\u001b[0m__name__\u001b[0m \u001b[0;34m=\u001b[0m \u001b[0mstr\u001b[0m\u001b[0;34m(\u001b[0m\u001b[0mpy_operation_name\u001b[0m\u001b[0;34m)\u001b[0m\u001b[0;34m\u001b[0m\u001b[0m\n",
      "\u001b[0;32m~/anaconda3/lib/python3.6/site-packages/botocore/client.py\u001b[0m in \u001b[0;36m_make_api_call\u001b[0;34m(self, operation_name, api_params)\u001b[0m\n\u001b[1;32m    610\u001b[0m             \u001b[0merror_code\u001b[0m \u001b[0;34m=\u001b[0m \u001b[0mparsed_response\u001b[0m\u001b[0;34m.\u001b[0m\u001b[0mget\u001b[0m\u001b[0;34m(\u001b[0m\u001b[0;34m\"Error\"\u001b[0m\u001b[0;34m,\u001b[0m \u001b[0;34m{\u001b[0m\u001b[0;34m}\u001b[0m\u001b[0;34m)\u001b[0m\u001b[0;34m.\u001b[0m\u001b[0mget\u001b[0m\u001b[0;34m(\u001b[0m\u001b[0;34m\"Code\"\u001b[0m\u001b[0;34m)\u001b[0m\u001b[0;34m\u001b[0m\u001b[0m\n\u001b[1;32m    611\u001b[0m             \u001b[0merror_class\u001b[0m \u001b[0;34m=\u001b[0m \u001b[0mself\u001b[0m\u001b[0;34m.\u001b[0m\u001b[0mexceptions\u001b[0m\u001b[0;34m.\u001b[0m\u001b[0mfrom_code\u001b[0m\u001b[0;34m(\u001b[0m\u001b[0merror_code\u001b[0m\u001b[0;34m)\u001b[0m\u001b[0;34m\u001b[0m\u001b[0m\n\u001b[0;32m--> 612\u001b[0;31m             \u001b[0;32mraise\u001b[0m \u001b[0merror_class\u001b[0m\u001b[0;34m(\u001b[0m\u001b[0mparsed_response\u001b[0m\u001b[0;34m,\u001b[0m \u001b[0moperation_name\u001b[0m\u001b[0;34m)\u001b[0m\u001b[0;34m\u001b[0m\u001b[0m\n\u001b[0m\u001b[1;32m    613\u001b[0m         \u001b[0;32melse\u001b[0m\u001b[0;34m:\u001b[0m\u001b[0;34m\u001b[0m\u001b[0m\n\u001b[1;32m    614\u001b[0m             \u001b[0;32mreturn\u001b[0m \u001b[0mparsed_response\u001b[0m\u001b[0;34m\u001b[0m\u001b[0m\n",
      "\u001b[0;31mResourceInUseException\u001b[0m: An error occurred (ResourceInUseException) when calling the CreateTable operation: Table already exists: nvmids"
     ]
    }
   ],
   "source": [
    "table = dynamodb.create_table(\n",
    "    TableName=\"nvmids\",\n",
    "    KeySchema=[\n",
    "        {\n",
    "            \"AttributeName\" : \"nvmid\",\n",
    "            \"KeyType\" : \"HASH\"\n",
    "        },\n",
    "        {\n",
    "            \"AttributeName\" : \"category_id\",\n",
    "            \"KeyType\" : \"RANGE\"\n",
    "        },\n",
    "    ],\n",
    "    AttributeDefinitions=[\n",
    "        {\n",
    "            \"AttributeName\":\"nvmid\",\n",
    "            \"AttributeType\":\"N\"\n",
    "        },\n",
    "        {\n",
    "            \"AttributeName\":\"category_id\",\n",
    "            \"AttributeType\":\"N\"\n",
    "        },\n",
    "    ],\n",
    "    ProvisionedThroughput={\n",
    "        \"ReadCapacityUnits\" : 20,\n",
    "        \"WriteCapacityUnits\" : 20,\n",
    "    }\n",
    ")"
   ]
  },
  {
   "cell_type": "code",
   "execution_count": 115,
   "metadata": {},
   "outputs": [],
   "source": [
    "table = dynamodb.Table(\"nvmids\")"
   ]
  }
 ],
 "metadata": {
  "kernelspec": {
   "display_name": "Python 3",
   "language": "python",
   "name": "python3"
  },
  "language_info": {
   "codemirror_mode": {
    "name": "ipython",
    "version": 3
   },
   "file_extension": ".py",
   "mimetype": "text/x-python",
   "name": "python",
   "nbconvert_exporter": "python",
   "pygments_lexer": "ipython3",
   "version": "3.6.4"
  }
 },
 "nbformat": 4,
 "nbformat_minor": 2
}
