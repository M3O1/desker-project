{
 "cells": [
  {
   "cell_type": "code",
   "execution_count": 2,
   "metadata": {},
   "outputs": [],
   "source": [
    "import time\n",
    "import json\n",
    "import logging\n",
    "\n",
    "import boto3\n",
    "from boto3.dynamodb.conditions import Key, Attr"
   ]
  },
  {
   "cell_type": "markdown",
   "metadata": {},
   "source": [
    "### 목표\n",
    "\n",
    "    * users table을 읽어서, 카테고리 정보와 브랜드 정보를 SQS에 담아주는 lambda를 설계"
   ]
  },
  {
   "cell_type": "code",
   "execution_count": null,
   "metadata": {},
   "outputs": [],
   "source": [
    "# Logging 설정\n",
    "logger = logging.getLogger(__name__) # \"__name__\"를 하면, root log는 제외시키고, 이 모듈 내에서 발생한 로그만 포함시킴. 없으면 requests 모듈에서 생긴 로그, boto3에서 생긴 로그 등이 포함되어 버림 그래서 지저분해짐\n",
    "logger.setLevel(logging.INFO)\n",
    "formatter = logging.Formatter('{\"method\" : \"SQS_CategoryBrand\", \"time\" : \"%(asctime)s\", \"level\" : \"%(levelname)s\", \"message\" : \"%(message)s\"}')\n",
    "ch = logging.StreamHandler()\n",
    "ch.setLevel(logging.INFO)\n",
    "ch.setFormatter(formatter)\n",
    "logger.addHandler(ch)"
   ]
  },
  {
   "cell_type": "markdown",
   "metadata": {},
   "source": [
    "#### SQS 관련된 Parameter\n",
    "\n",
    "| 항목  | 의미  |\n",
    "|----|----|\n",
    "| DefaultVisibleTimeout | SQS에서 메시지는 특정 Component에 전달된 뒤, 자동으로 삭제 되지 않는데, 그 때문에 중복된 메시지를 전달받을 수 있음. 그래서 한번 전달된 메시지는 visible timeout에 설정된 일정시간 동안은 다시 전달되지 않도록 하고 있음. 이러한 메시지들의 상태를 **inflight**라고 표현함.|\n",
    "| MessageRetentionPeriod | 메시지 생명주기 / 1분부터 최대 14일까지 지정할 수 있음 |\n",
    "| Maximum Message Size | 메시지 최대 크기 최대 256Kbytes까지 가능 |\n",
    "| Delivery Delay | 새로운 메시지가 전달되는 초기 지연 시간. 0초~900초(15분)까지 설정 가능. |\n",
    "| Receive Message Wait Time | Long Polling을 활성화 함, 0~20초까지 가능 |"
   ]
  },
  {
   "cell_type": "code",
   "execution_count": 56,
   "metadata": {},
   "outputs": [],
   "source": [
    "QueueName = \"categorybrands\"\n",
    "\n",
    "sqs = boto3.resource('sqs')\n",
    "try:\n",
    "    queue = sqs.get_queue_by_name(QueueName=QueueName)\n",
    "except:\n",
    "    queue = sqs.create_queue(QueueName=QueueName,Attributes=\n",
    "                            {\n",
    "                                \"VisibilityTimeout\":\"300\",\n",
    "                            })"
   ]
  },
  {
   "cell_type": "code",
   "execution_count": 54,
   "metadata": {},
   "outputs": [
    {
     "name": "stdout",
     "output_type": "stream",
     "text": [
      "sqs message 갯수 :  735\n"
     ]
    }
   ],
   "source": [
    "# Table 내 모든 정보를 가져옴\n",
    "dynamodb = boto3.resource(\"dynamodb\", region_name=\"ap-northeast-2\")\n",
    "table = dynamodb.Table(\"users\")\n",
    "\n",
    "response = table.scan()\n",
    "items = response['Items']\n",
    "\n",
    "sqs_message_list = []\n",
    "message = {}\n",
    "for item in items:\n",
    "    item['brands'] = json.loads(item['brands']) # json decoding    \n",
    "    \n",
    "    message['category_id'] = str(item['category_id']) # Decimal decoding\n",
    "    message['category_title'] = item['category_title']\n",
    "    for brand in item['brands']:\n",
    "        message['brand_id'] = brand[0]\n",
    "        message['brand_title'] = brand[1]\n",
    "        sqs_message_list.append(message.copy())\n",
    "        \n",
    "print(\"sqs message 갯수 : \",len(sqs_message_list))"
   ]
  },
  {
   "cell_type": "code",
   "execution_count": 58,
   "metadata": {},
   "outputs": [],
   "source": [
    "# categorybrands에 보내는 메시지 형식\n",
    "categorybrands_message = lambda msgid, item : {\n",
    "    \"Id\" : msgid,\n",
    "    \"MessageBody\": item\n",
    "}"
   ]
  },
  {
   "cell_type": "code",
   "execution_count": 57,
   "metadata": {},
   "outputs": [],
   "source": [
    "# nvmid queue에 Bulk Insert하기 \n",
    "Entries = []\n",
    "start = time.time()\n",
    "for message in sqs_message_list:\n",
    "    msgid = message['brand_id'] + message['category_id']\n",
    "    item = json.dumps(message)\n",
    "    Entries.append(categorybrands_message(msgid,item))\n",
    "    if len(Entries) == 10:\n",
    "        queue.send_messages(Entries=Entries)\n",
    "        Entries=[]\n",
    "\n",
    "if len(Entries) > 0:\n",
    "    queue.send_messages(Entries=Entries)\n",
    "    Entries=[]\n",
    "end = time.time()"
   ]
  },
  {
   "cell_type": "code",
   "execution_count": 68,
   "metadata": {},
   "outputs": [
    {
     "data": {
      "text/plain": [
       "{'ResponseMetadata': {'HTTPHeaders': {'connection': 'keep-alive',\n",
       "   'content-length': '215',\n",
       "   'content-type': 'text/xml',\n",
       "   'date': 'Thu, 08 Mar 2018 08:46:37 GMT',\n",
       "   'server': 'Server',\n",
       "   'x-amzn-requestid': '414268a9-bc50-5390-976e-3bb346fd19f1'},\n",
       "  'HTTPStatusCode': 200,\n",
       "  'RequestId': '414268a9-bc50-5390-976e-3bb346fd19f1',\n",
       "  'RetryAttempts': 0}}"
      ]
     },
     "execution_count": 68,
     "metadata": {},
     "output_type": "execute_result"
    }
   ],
   "source": [
    "messages = queue.receive_messages(AttributeNames=[\"All\"],\n",
    "                                MessageAttributeNames=['Page'],\n",
    "                                MaxNumberOfMessages=1,\n",
    "                                WaitTimeSeconds=3)\n",
    "\n",
    "msg = messages[0]\n",
    "data = json.loads(msg.body)\n",
    "msg.delete()"
   ]
  }
 ],
 "metadata": {
  "kernelspec": {
   "display_name": "Python 3",
   "language": "python",
   "name": "python3"
  },
  "language_info": {
   "codemirror_mode": {
    "name": "ipython",
    "version": 3
   },
   "file_extension": ".py",
   "mimetype": "text/x-python",
   "name": "python",
   "nbconvert_exporter": "python",
   "pygments_lexer": "ipython3",
   "version": "3.6.4"
  }
 },
 "nbformat": 4,
 "nbformat_minor": 2
}
