{
 "cells": [
  {
   "cell_type": "code",
   "execution_count": 63,
   "metadata": {},
   "outputs": [],
   "source": [
    "import json\n",
    "import re\n",
    "import time\n",
    "\n",
    "import pandas as pd\n",
    "from elasticsearch import Elasticsearch\n",
    "from elasticsearch import helpers"
   ]
  },
  {
   "cell_type": "markdown",
   "metadata": {},
   "source": [
    "### ES Datebase에 넣을 Sample DATA-SET\n",
    "    데이터 셋은 20180131 이전에 crawling한 데이터셋.\n",
    "    - sample_item : items index에 해당하는 csv 파일\n",
    "    - sample_review : reviews index에 해당하는 csv 파일"
   ]
  },
  {
   "cell_type": "code",
   "execution_count": 10,
   "metadata": {},
   "outputs": [],
   "source": [
    "item_df = pd.read_csv(\"data/sample_item.csv\",sep=\"▒\",na_values=\"\",engine='python')\n",
    "review_df = pd.read_csv(\"data/sample_review.csv\",sep='▒',na_values=\"\",engine='python')\n",
    "\n",
    "# review_tag는 json파일로 되어 있음. list 형태로 복원\n",
    "review_df.review_tag = review_df.review_tag.apply(json.loads)\n",
    "\n",
    "item_df = item_df.fillna(\"\")\n",
    "review_df = review_df.fillna(\"\")\n",
    "\n",
    "# item index에 review_tag 부착\n",
    "item_df['review_tag'] = 0\n",
    "item_df['review_tag'] = item_df.review_tag.apply(lambda x : [\"가격\", \"디자인\", \"배송\", \"색\", \"조립\", \"품질\"])"
   ]
  },
  {
   "cell_type": "markdown",
   "metadata": {},
   "source": [
    "## Elasticsearch 관련 Script"
   ]
  },
  {
   "cell_type": "code",
   "execution_count": 11,
   "metadata": {},
   "outputs": [],
   "source": [
    "item_index_name = \"item_table\"\n",
    "review_index_name = \"review_table\""
   ]
  },
  {
   "cell_type": "markdown",
   "metadata": {},
   "source": [
    "#### 1. initialize ES-client "
   ]
  },
  {
   "cell_type": "code",
   "execution_count": 64,
   "metadata": {},
   "outputs": [
    {
     "name": "stdout",
     "output_type": "stream",
     "text": [
      "Elasticsearch is Okay\n"
     ]
    }
   ],
   "source": [
    "es = Elasticsearch(host=\"localhost\")\n",
    "if es.ping():\n",
    "    # Check Elasticsearch is operating\n",
    "    print(\"Elasticsearch is Okay\")"
   ]
  },
  {
   "cell_type": "markdown",
   "metadata": {},
   "source": [
    "#### 2. check the existence of Index in ES"
   ]
  },
  {
   "cell_type": "code",
   "execution_count": null,
   "metadata": {},
   "outputs": [],
   "source": [
    "delete_index = False # 인덱스 내용을 지우는 지 여부\n",
    "\n",
    "if es.indices.exists(item_index_name):\n",
    "    print('\"items\" index exists')\n",
    "    if delete_index:\n",
    "        es.indices.delete(item_index_name, ignore=[400,404])\n",
    "if es.indices.exists(review_index_name):\n",
    "    print('\"reviews\" index exists')\n",
    "    if delete_index:\n",
    "        es.indices.delete(review_index_name, ignore=[400,404])"
   ]
  },
  {
   "cell_type": "markdown",
   "metadata": {},
   "source": [
    "#### 3. create the index with tokenizer setting"
   ]
  },
  {
   "cell_type": "markdown",
   "metadata": {},
   "source": [
    "**stop word**\n",
    "    \n",
    "    자바 security manager의 관리 하에 있는 elasticsearch는 \n",
    "    특정 파일을 읽으려면, 읽기 권한을 제공해주어야 한다.\n",
    "    \n",
    "\n",
    "````java\n",
    "// path : /usr/lib/jvm/java-8-openjdk-amd64/jre/lib/security/java.policy\n",
    "grant {\n",
    "    permission java.io.FilePermission \"/home/ubuntu/elasticsearch/stopword.csv\", \"read\";\n",
    "};\n",
    "````\n",
    "위와 같이 권한을 상속해야 한다.\n",
    "\n",
    "**arirang analyzer**\n",
    "\n",
    "    Tokenizer 내부에 문제가 있어서, \n",
    "    \n",
    "    tartOffset must be non-negative, and endOffset must be >= startOffset, and offsets must not go backwards startOffset=0,endOffset=2,lastStartOffset=3 for field 'cat_1'\"\n",
    "    \n",
    "    라는 내용의 offset error가 있음. 아래의 방식으로 해결해야함\n",
    "    \n",
    "**reference**\n",
    "1. http://jjeong.tistory.com/1257\n",
    "2. http://jjeong.tistory.com/1281\n",
    "\n",
    "**은전한닢 토크나이저**\n",
    "   \n",
    "    은전한닢이 ES 내에서 가장 많이 쓰이는 토크나이저. 안정적이긴 한데 좀 메모리를 많이 먹는다는 평이 있음\n",
    "   \n",
    "1. http://blog.indexall.net/2017/05/installed-elasticsearch-analysis-mecab.html\n",
    "2. https://bitbucket.org/eunjeon/seunjeon/raw/master/elasticsearch/"
   ]
  },
  {
   "cell_type": "code",
   "execution_count": 14,
   "metadata": {},
   "outputs": [],
   "source": [
    "# reference : http://jjeong.tistory.com/1142\n",
    "setting = {\n",
    "    \"settings\":{\n",
    "      \"index.mapping.ignore_malformed\": \"true\",\n",
    "      \"index\":{\n",
    "        \"analysis\":{\n",
    "          \"tokenizer\": {\n",
    "            \"seunjeon_default_tokenizer\": {\n",
    "              \"type\": \"seunjeon_tokenizer\",\n",
    "              \"pos_tagging\": False,\n",
    "            },\n",
    "            \"word_cloud_tokenizer\": {\n",
    "              \"type\": \"seunjeon_tokenizer\",\n",
    "              \"index_eojeol\" : False,\n",
    "              \"pos_tagging\": False,\n",
    "              \"index_poses\": [\"N\",\"V\"]\n",
    "            }\n",
    "          },\n",
    "          \"analyzer\":{\n",
    "            # 은전한닢 토크나이저 세팅        \n",
    "            \"korean\": {\n",
    "              \"type\" : \"custom\",\n",
    "              \"tokenizer\": \"seunjeon_default_tokenizer\",\n",
    "            },\n",
    "            \"popular\":{\n",
    "              \"tokenizer\":\"word_cloud_tokenizer\",           \n",
    "              \"filter\": [\"stop_popular_word\"]\n",
    "            }\n",
    "          },\n",
    "          \"filter\":{\n",
    "            \"stop_popular_word\" : {\n",
    "                  \"type\" : \"stop\",\n",
    "                  \"stopwords_path\" : \"/home/ubuntu/elasticsearch/stopword.csv\"\n",
    "            }          \n",
    "          }\n",
    "        }\n",
    "      }\n",
    "    }\n",
    "}"
   ]
  },
  {
   "cell_type": "code",
   "execution_count": 15,
   "metadata": {},
   "outputs": [
    {
     "data": {
      "text/plain": [
       "{'acknowledged': True, 'index': 'item_table', 'shards_acknowledged': True}"
      ]
     },
     "execution_count": 15,
     "metadata": {},
     "output_type": "execute_result"
    }
   ],
   "source": [
    "# create the index \n",
    "es.indices.create(item_index_name,body=json.dumps(setting))\n",
    "es.indices.create(review_index_name,body=json.dumps(setting))"
   ]
  },
  {
   "cell_type": "code",
   "execution_count": null,
   "metadata": {},
   "outputs": [],
   "source": [
    "# test  - korean\n",
    "body = {\n",
    "    \"analyzer\" :\"popular\",\n",
    "    \"text\":review_df.sort_values('review_accuracy',ascending=False).iloc[10000].review\n",
    "}\n",
    "es.indices.analyze(item_index_name,body=json.dumps(body))"
   ]
  },
  {
   "cell_type": "markdown",
   "metadata": {},
   "source": [
    "#### 4. Put mapping in Index"
   ]
  },
  {
   "cell_type": "code",
   "execution_count": 16,
   "metadata": {},
   "outputs": [
    {
     "data": {
      "text/plain": [
       "{'acknowledged': True}"
      ]
     },
     "execution_count": 16,
     "metadata": {},
     "output_type": "execute_result"
    }
   ],
   "source": [
    "item_mapping = {\n",
    "    \"properties\":{\n",
    "        \"brand_id\"   : {\"type\":\"integer\"},\n",
    "        \"brand_name\" : {\"type\":\"keyword\"},\n",
    "        \"img_url\"    : {\"type\":\"keyword\"},\n",
    "        \"item_spec\"  : {\"type\":\"text\", \"analyzer\":\"korean\"},\n",
    "        \"item_name\"  : {\"type\":\"text\",\"analyzer\":\"korean\",\"fields\":{\"raw\":{\"type\":\"keyword\"}}}, \n",
    "        \"min_price\"  : {\"type\":\"long\"},\n",
    "        \"nv_mid\"     : {\"type\" : \"long\"},\n",
    "        \"url\"  : {\"type\":\"keyword\"},\n",
    "        \"cat_1\": {\"type\":\"text\",\"analyzer\":\"korean\",\"fields\":{\"raw\":{\"type\":\"keyword\"}}},\n",
    "        \"cat_2\": {\"type\":\"text\",\"analyzer\":\"korean\",\"fields\":{\"raw\":{\"type\":\"keyword\"}}},\n",
    "        \"cat_3\": {\"type\":\"text\",\"analyzer\":\"korean\",\"fields\":{\"raw\":{\"type\":\"keyword\"}}},\n",
    "        \"cat_4\": {\"type\":\"text\",\"analyzer\":\"korean\",\"fields\":{\"raw\":{\"type\":\"keyword\"}}},\n",
    "        \"review_tag\" : {\"type\":\"keyword\"},\n",
    "    }\n",
    "}\n",
    "es.indices.put_mapping(\"item\",body=json.dumps(item_mapping),index=item_index_name)"
   ]
  },
  {
   "cell_type": "code",
   "execution_count": null,
   "metadata": {},
   "outputs": [],
   "source": [
    "review_mapping = {\n",
    "    \"properties\":{\n",
    "        \"brand_id\"   : {\"type\":\"integer\"},\n",
    "        \"brand_name\" : {\"type\":\"keyword\"},\n",
    "        \"img_url\"    : {\"type\":\"keyword\"},\n",
    "        \"item_spec\"  : {\"type\":\"text\",\"analyzer\":\"korean\"},\n",
    "        \"item_name\"  : {\"type\":\"text\",\"analyzer\":\"korean\",\"fields\":{\"raw\":{\"type\":\"keyword\"}}},\n",
    "        \"min_price\"  : {\"type\":\"long\"},\n",
    "        \"nv_mid\"     : {\"type\":\"long\"},\n",
    "        \"url\"   : {\"type\":\"keyword\"},\n",
    "        \"cat_1\" : {\"type\":\"text\",\"analyzer\":\"korean\",\"fields\":{\"raw\":{\"type\":\"keyword\"}}},\n",
    "        \"cat_2\" : {\"type\":\"text\",\"analyzer\":\"korean\",\"fields\":{\"raw\":{\"type\":\"keyword\"}}},\n",
    "        \"cat_3\" : {\"type\":\"text\",\"analyzer\":\"korean\",\"fields\":{\"raw\":{\"type\":\"keyword\"}}},\n",
    "        \"cat_4\" : {\"type\":\"text\",\"analyzer\":\"korean\",\"fields\":{\"raw\":{\"type\":\"keyword\"}}},\n",
    "        \"review\": {\"type\":\"text\",\"analyzer\":\"korean\",\n",
    "                    \"fields\": {\n",
    "                        \"raw\":{\"type\":\"keyword\"},\n",
    "                        \"tokens\":{\"type\":\"text\",\"fielddata\":\"true\",\"analyzer\":\"popular\"}\n",
    "                     },\n",
    "                  },\n",
    "        \"review_date\"  : {\"type\" : \"date\", \"format\":\"yyyy.MM.||yyyy.MM||yyyy.MM.dd||yyyy.MM.dd.\"},\n",
    "        \"review_grade\" : {\"type\":\"long\"},\n",
    "        \"review_mall\"  : {\"type\":\"keyword\"},\n",
    "        \"review_title\" : {\"type\":\"text\",\"analyzer\":\"korean\"},\n",
    "        \"review_id\"    : {\"type\":\"keyword\"},\n",
    "        \"review_accuracy\" : {\"type\":\"integer\"},\n",
    "        \"review_tag\" : {\"type\":\"keyword\"},\n",
    "    }\n",
    "}\n",
    "\n",
    "es.indices.put_mapping(\"review\",body=json.dumps(review_mapping),index=review_index_name)"
   ]
  },
  {
   "cell_type": "code",
   "execution_count": null,
   "metadata": {},
   "outputs": [],
   "source": [
    "# check the mapping\n",
    "print(es.indices.get_mapping(item_index_name,\"item\"))\n",
    "print(\"-------------------------------------\")\n",
    "print(es.indices.get_mapping(review_index_name,\"review\"))"
   ]
  },
  {
   "cell_type": "markdown",
   "metadata": {},
   "source": [
    "#### 5. put data into index"
   ]
  },
  {
   "cell_type": "code",
   "execution_count": 17,
   "metadata": {},
   "outputs": [],
   "source": [
    "def generate_action(_index,_type):\n",
    "    def _generate_action(_id, _source):\n",
    "        return {\n",
    "            \"_index\"  : _index,\n",
    "            \"_type\"   : _type,\n",
    "            \"_id\"     : _id,\n",
    "            \"_source\" : _source\n",
    "        }\n",
    "    return _generate_action"
   ]
  },
  {
   "cell_type": "markdown",
   "metadata": {},
   "source": [
    "**item document 넣기**"
   ]
  },
  {
   "cell_type": "code",
   "execution_count": 18,
   "metadata": {},
   "outputs": [],
   "source": [
    "action = generate_action(_index=item_index_name,_type=\"item\")\n",
    "actions = [action(row['nv_mid'],row) for row in item_df.to_dict(orient='records')]"
   ]
  },
  {
   "cell_type": "code",
   "execution_count": 19,
   "metadata": {},
   "outputs": [
    {
     "name": "stdout",
     "output_type": "stream",
     "text": [
      "consumed time --- 13.75279951095581\n"
     ]
    }
   ],
   "source": [
    "# Bulk helper를 이용하면 훨씬 더 빨리 넣을 수 있음\n",
    "start = time.time()\n",
    "helpers.bulk(es,actions,stats_only=False,chunk_size=2000,raise_on_error=False)\n",
    "end = time.time()\n",
    "print(\"consumed time --- {}\".format(end-start));"
   ]
  },
  {
   "cell_type": "markdown",
   "metadata": {},
   "source": [
    "**review document 넣기**"
   ]
  },
  {
   "cell_type": "code",
   "execution_count": null,
   "metadata": {},
   "outputs": [],
   "source": [
    "sample = review_df[review_df.review_date >=\"2017.06.01.\"]"
   ]
  },
  {
   "cell_type": "code",
   "execution_count": null,
   "metadata": {},
   "outputs": [],
   "source": [
    "action = generate_action(_index=review_index_name,_type=\"review\")\n",
    "actions = [action(row['review_id'],row) for row in sample.to_dict(orient='records')]"
   ]
  },
  {
   "cell_type": "code",
   "execution_count": null,
   "metadata": {},
   "outputs": [],
   "source": [
    "# Bulk helper를 이용하면 훨씬 더 빨리 넣을 수 있음\n",
    "start = time.time()\n",
    "helpers.bulk(es,actions,stats_only=False,chunk_size=1000,raise_on_error=False)\n",
    "end = time.time()\n",
    "print(\"consumed time --- {}\".format(end-start));"
   ]
  },
  {
   "cell_type": "markdown",
   "metadata": {},
   "source": [
    "------------------------------------------------------------------------------------------------\n",
    "------------------------------------------------------------------------------------------------"
   ]
  },
  {
   "cell_type": "markdown",
   "metadata": {},
   "source": [
    "## 일래스틱서치의 Search Query 던지기"
   ]
  },
  {
   "cell_type": "markdown",
   "metadata": {},
   "source": [
    "Reference : https://bakyeono.net/post/2016-08-20-elasticsearch-querydsl-basic.html"
   ]
  },
  {
   "cell_type": "markdown",
   "metadata": {},
   "source": [
    "### 검색요청하기"
   ]
  },
  {
   "cell_type": "markdown",
   "metadata": {},
   "source": [
    "**Match_all**\n",
    "    \n",
    "    모든 문서와 매치한다"
   ]
  },
  {
   "cell_type": "code",
   "execution_count": null,
   "metadata": {},
   "outputs": [],
   "source": [
    "body = {\n",
    "    \"query\" :{\"match_all\":{}}\n",
    "}\n",
    "es.search(index=review_index_name,body=json.dumps(body))"
   ]
  },
  {
   "cell_type": "markdown",
   "metadata": {},
   "source": [
    "**match** : 옵션\n",
    "\n",
    "    지정한 필드에 전문 검색을 수행한다."
   ]
  },
  {
   "cell_type": "code",
   "execution_count": null,
   "metadata": {},
   "outputs": [],
   "source": [
    "body = {\n",
    "    \"query\" :{\n",
    "        \"match\":{\n",
    "            \"brand_name\":\"데스커\"\n",
    "        }}\n",
    "}\n",
    "es.search(index=review_index_name,body=json.dumps(body))"
   ]
  },
  {
   "cell_type": "markdown",
   "metadata": {},
   "source": [
    "### 출력 필드 선택"
   ]
  },
  {
   "cell_type": "markdown",
   "metadata": {},
   "source": [
    "**stored_fields** : [필드,...]\n",
    "\n",
    "    보고 싶은 필드만 선택해서 받아올 수 있다.(네트워크 비용 감소)"
   ]
  },
  {
   "cell_type": "code",
   "execution_count": null,
   "metadata": {},
   "outputs": [],
   "source": [
    "# 구버전 : fields -> stored_fields로 변경되었음\n",
    "body = {\n",
    "    \"stored_fields\" : [\"review\"],\n",
    "    \"query\" :{\n",
    "        \"match\":{\n",
    "            \"brand_name\":\"데스커\"\n",
    "        }\n",
    "    }\n",
    "}\n",
    "es.search(index=review_index_name,body=json.dumps(body))"
   ]
  },
  {
   "cell_type": "markdown",
   "metadata": {},
   "source": [
    "**from**: 값  |  **size**: 값\n",
    "    \n",
    "    from, size 옵션으로 검색 결과를 분할할 수 있다.\n",
    "    예) 검색 결과 중 10번째 문서부터 5개의 문서 가져오기"
   ]
  },
  {
   "cell_type": "code",
   "execution_count": null,
   "metadata": {},
   "outputs": [],
   "source": [
    "# 구버전 : fields -> stored_fields로 변경되었음\n",
    "body = {\n",
    "    \"from\":10,\n",
    "    \"size\":5,\n",
    "    \"query\" :{\n",
    "        \"match\":{\n",
    "            \"brand_name\":\"데스커\"\n",
    "        }\n",
    "    }\n",
    "}\n",
    "es.search(index=review_index_name,body=json.dumps(body))"
   ]
  },
  {
   "cell_type": "markdown",
   "metadata": {},
   "source": [
    "**sort** : [{필드:  {옵션, ...}},...]\n",
    "    \n",
    "    sort 옵션으로 검색 결과를 정렬할 수 있다."
   ]
  },
  {
   "cell_type": "code",
   "execution_count": null,
   "metadata": {},
   "outputs": [],
   "source": [
    "body = {\n",
    "    \"sort\":[\n",
    "        {\"review_accuracy\" :{\"order\":\"desc\"}}\n",
    "    ],\n",
    "    \"query\": {\n",
    "        \"match\" : {\n",
    "            \"brand_name\":\"데스커\"\n",
    "        }\n",
    "    }\n",
    "}\n",
    "es.search(index=review_index_name,body=json.dumps(body))"
   ]
  },
  {
   "cell_type": "markdown",
   "metadata": {},
   "source": [
    "### 쿼리와 필터의 구분\n",
    "    \n",
    "    쿼리와 필터는 둘 다 문서를 걸러내고 선택하는 용도이므로 비슷하지만, 구체적인 쓰임새가 다름.\n",
    "\n",
    "\n",
    "| 쿼리 | 필터 |\n",
    "|----|----|\n",
    "|연관성| yes/no |\n",
    "|캐시불가|캐시 가능|\n",
    "|느림|빠름|"
   ]
  },
  {
   "cell_type": "markdown",
   "metadata": {},
   "source": [
    "루씬은 아래와 같은 형태로 역 색인표를 만든다.\n",
    "\n",
    "|필드|텀 |문서1|문서2|문서3|문서N|\n",
    "|---|---|---|---|---|---|\n",
    "|title|민주노총|1|0|0|...|\n",
    "|title|한상균|0|1|0|...|\n",
    "|title|편지|1|1|1|...|\n",
    "|genre|편지|1|0|1|...|\n",
    "\n",
    "캐시는 필터 전용 역색인표라고 할 수 있다. 마치 역색인표의 일부를 뽑아낸 것과 비슷한 모양으로 저장된다.\n",
    "\n",
    "필터 종류, 필드, 텀에 의해 캐시의 키를 정하고, 필터의 결과를 비트벡터 형태로 저장해둔다. 예를 들어, 텀 필터의 결과는 다음과 같이 캐시된다."
   ]
  },
  {
   "cell_type": "markdown",
   "metadata": {},
   "source": [
    "필터는 Bool Query에 속하는 개념.\n",
    "\n",
    "Bool Query type에는 \n",
    "    \n",
    "    - filter : filter 내 항목 모두를 밪아야 Okay \n",
    "    - must : must 내 항목 모두를 맞아야 Okay\n",
    "    - should : should 내 항목 중에 하나라도 맞으면 Okay\n",
    "    - must_not : must_not 내 항목 모두 없어야 Okay\n",
    "    \n",
    "    filter vs must : 점수를 계산하냐 안하냐의 차이"
   ]
  },
  {
   "cell_type": "markdown",
   "metadata": {},
   "source": [
    "이전에는 filtered가 있었는데 deprecated 된 듯"
   ]
  },
  {
   "cell_type": "code",
   "execution_count": null,
   "metadata": {},
   "outputs": [],
   "source": [
    "body = {\n",
    "    \"query\": {\n",
    "        \"bool\" : {\n",
    "            \"filter\" : [\n",
    "                { \"range\" : {\n",
    "                    \"review_grade\" :{\n",
    "                        \"gte\" :1,\n",
    "                        \"lte\" :3\n",
    "                        }\n",
    "                    }\n",
    "                },\n",
    "                {\"terms\" : {\n",
    "                    \"brand_name\":[\"데스커\",\"한샘\"]\n",
    "                 }\n",
    "                }\n",
    "            ]            \n",
    "        }\n",
    "    }\n",
    "}\n",
    "es.search(index=review_index_name,body=json.dumps(body))"
   ]
  },
  {
   "cell_type": "markdown",
   "metadata": {},
   "source": [
    "-----------------------------------\n",
    "reference : https://www.elastic.co/blog/text-classification-made-easy-with-elasticsearch"
   ]
  }
 ],
 "metadata": {
  "kernelspec": {
   "display_name": "Python 3",
   "language": "python",
   "name": "python3"
  },
  "language_info": {
   "codemirror_mode": {
    "name": "ipython",
    "version": 3
   },
   "file_extension": ".py",
   "mimetype": "text/x-python",
   "name": "python",
   "nbconvert_exporter": "python",
   "pygments_lexer": "ipython3",
   "version": "3.6.4"
  }
 },
 "nbformat": 4,
 "nbformat_minor": 2
}
