{
 "cells": [
  {
   "cell_type": "code",
   "execution_count": 181,
   "metadata": {},
   "outputs": [],
   "source": [
    "import boto3\n",
    "import requests\n",
    "import pandas as pd\n",
    "import json\n",
    "import logging\n",
    "import time\n",
    "import re\n",
    "\n",
    "from boto3.dynamodb.conditions import Key, Attr\n",
    "\n",
    "from bs4 import BeautifulSoup\n",
    "import requests"
   ]
  },
  {
   "cell_type": "markdown",
   "metadata": {},
   "source": [
    "### 목표\n",
    "\n",
    "    1. 고객이 조사하고 싶은 카테고리를 등록하면, 해당 카테고리의 Popular-Brand 리스트들을 추가\n",
    "    2. 그 리스트들을 DynamoDB에 등록"
   ]
  },
  {
   "cell_type": "code",
   "execution_count": 201,
   "metadata": {},
   "outputs": [],
   "source": [
    "# 등록된 카테고리에 대한 Popular-brand를 뽑아주는 class\n",
    "# argument : \n",
    "#     - category_list : (cat_id, cat_title) 로 구성된 리스트 \n",
    "# output : \n",
    "#     - brand_list : (brand_id, brand_title) 로 구성된 리스트\n",
    "class BrandCrawler():\n",
    "    base_url = 'https://search.shopping.naver.com/search/category.nhn'\n",
    "    headers = {\n",
    "        \"accept\":\"text/html,application/xhtml+xml,application/xml;q=0.9,image/webp,image/apng,*/*;q=0.8\",\n",
    "        \"accept-encoding\":\"gzip, deflate, br\",\n",
    "        \"accept-language\":\"ko-KR,ko;q=0.9,en-US;q=0.8,en;q=0.7\",\n",
    "        \"user-agent\":\"Mozilla/5.0 (X11; Linux x86_64) AppleWebKit/537.36 (KHTML, like Gecko) Chrome/63.0.3239.132 Safari/537.36\"}\n",
    "    params = {\n",
    "        'cat_id':0,\n",
    "        \"pagingIndex\":1,\n",
    "        'pagingSize':20,\n",
    "        \"viewType\":'list',\n",
    "        'sort':'date',\n",
    "        'frm':'NVSHBRD'\n",
    "    }\n",
    "    method = \"get\"\n",
    "    logger = logging.getLogger(\"brand_crawl\")\n",
    "\n",
    "    def __init__(self, category_list,**kwargs):\n",
    "        self.research_list = category_list\n",
    "        self.delay = kwargs.get('delay',0.5)\n",
    "\n",
    "    def run(self):\n",
    "        global EXIT\n",
    "        self.logger.info('start to run')\n",
    "        result_list = []\n",
    "        \n",
    "        for cat_id, cat_title in self.research_list:\n",
    "            row = {}\n",
    "            self.params['cat_id'] = cat_id\n",
    "            res_text, res_url = self._requests_text()\n",
    "            if res_text is None:\n",
    "                continue\n",
    "                \n",
    "            row['cat_id'] = cat_id\n",
    "            row['cat_title'] = cat_title      \n",
    "            row['brand_list'] = self._parse_and_save(res_text, res_url) \n",
    "            result_list.append(row)\n",
    "        self.logger.info('end to run')\n",
    "        return result_list\n",
    "\n",
    "    def _requests_text(self):\n",
    "        try:\n",
    "            res = requests.request(self.method,\n",
    "                                   self.base_url,\n",
    "                                   params=self.params,\n",
    "                                   headers=self.headers,\n",
    "                                   timeout=5)\n",
    "            res_text = res.text\n",
    "            res_url = res.url\n",
    "        except requests.ConnectionError as e:\n",
    "            self.logger.error(e)\n",
    "            res_text = None\n",
    "            res_url = None\n",
    "        except requests.Timeout as e:\n",
    "            self.logger.error(e)\n",
    "            res_text = None\n",
    "            res_url = None\n",
    "        except requests.RequestException as e:\n",
    "            self.logger.error(e)\n",
    "            res_text = None\n",
    "            res_url = None\n",
    "        finally:\n",
    "            return res_text, res_url\n",
    "\n",
    "    def _parse_and_save(self, res_text, res_url):\n",
    "        bsObj = BeautifulSoup(res_text,\"html.parser\")\n",
    "        brand_div = bsObj.find(\"div\",{\"class\":re.compile(\"brand_filter\")})\n",
    "        brand_hot = brand_div.find(\"ul\",{'class':re.compile(\"finder_tit\")})\n",
    "        \n",
    "        row = {}  \n",
    "        row_list = []\n",
    "        for brand_sec in brand_hot.find_all('li'):\n",
    "            try:\n",
    "                brand_title = (brand_sec.a.attrs['title'])\n",
    "                brand_id = (brand_sec.a.attrs['data-filter-value'])\n",
    "                row_list.append((brand_id, brand_title))\n",
    "            except AttributeError as e:\n",
    "                self.logger.error(\"brand_name or brand_id is missing... url : {}\".format(res_url))\n",
    "                continue\n",
    "        return row_list"
   ]
  },
  {
   "cell_type": "markdown",
   "metadata": {},
   "source": [
    "### 1. DynamoDB 생성하고, 데이터를 추가하기"
   ]
  },
  {
   "cell_type": "code",
   "execution_count": 33,
   "metadata": {},
   "outputs": [],
   "source": [
    "dynamodb = boto3.resource(\"dynamodb\", region_name=\"ap-northeast-2\")"
   ]
  },
  {
   "cell_type": "markdown",
   "metadata": {},
   "source": [
    "#### 1. 테이블 생성하기"
   ]
  },
  {
   "cell_type": "markdown",
   "metadata": {},
   "source": [
    "**'users'라는 이름의 테이블을 생성**\n",
    "\n",
    "- key schema\n",
    "    - user - 파티션 키. 문자열에 대한 AttributeType : S\n",
    "    - category_id - 정렬키. 숫자에 대한 AttributeType : N\n",
    "- value schema\n",
    "    - brands - (brand_name , brand_id)의 json 집합\n",
    "\n",
    "**Capacity 설정**\n",
    "\n",
    "- ReadCapcityUnits:\n",
    "    - 필요한 읽기 용량 유닛 수* = 초당 읽기 항목 수 * 항목 크기(4KB 블록)\n",
    "- WriteCapacityUnits:\n",
    "    - 필요한 쓰기 용량 유닛 수 = 초당 쓰기 항목 수 * 항목 크기(1KB 블록)\n",
    "    \n",
    "    "
   ]
  },
  {
   "cell_type": "code",
   "execution_count": 72,
   "metadata": {},
   "outputs": [],
   "source": [
    "table = dynamodb.create_table(\n",
    "    TableName=\"users\",\n",
    "    KeySchema=[\n",
    "        {\n",
    "            \"AttributeName\" : \"user\",\n",
    "            \"KeyType\" : \"HASH\"\n",
    "        },\n",
    "        {\n",
    "            \"AttributeName\" : \"category_id\",\n",
    "            \"KeyType\" : \"RANGE\"\n",
    "        },\n",
    "    ],\n",
    "    AttributeDefinitions=[\n",
    "        {\n",
    "            \"AttributeName\":\"user\",\n",
    "            \"AttributeType\":\"S\"\n",
    "        },\n",
    "        {\n",
    "            \"AttributeName\":\"category_id\",\n",
    "            \"AttributeType\":\"N\"\n",
    "        },\n",
    "    ],\n",
    "    ProvisionedThroughput={\n",
    "        \"ReadCapacityUnits\" : 5,\n",
    "        \"WriteCapacityUnits\" : 5,\n",
    "    }\n",
    "\n",
    ")"
   ]
  },
  {
   "cell_type": "markdown",
   "metadata": {},
   "source": [
    "#### 2. 데이터 추가하기"
   ]
  },
  {
   "cell_type": "code",
   "execution_count": 249,
   "metadata": {},
   "outputs": [],
   "source": [
    "# 카테고리 이름을 crawl_category_list에 추가하면, \n",
    "# 해당 카테고리의 하위 말단 카테고리의 ID와 NAME을 \n",
    "# target_category_list에 담음\n",
    "crawl_category_list = ['서재/사무용가구'] # 가져올 카테고리의 이름"
   ]
  },
  {
   "cell_type": "code",
   "execution_count": 280,
   "metadata": {},
   "outputs": [],
   "source": [
    "# 가져올 데이터를 수집하기\n",
    "cat_df = pd.read_csv(\"./data/category.csv\",sep=\";\",dtype=str)\n",
    "\n",
    "target_category_list = set()\n",
    "for _, row in cat_df.iterrows():\n",
    "    # crawl_category_list에 있는 카테고리가 row에 있는 경우를 check\n",
    "    if row.isin(crawl_category_list).sum() > 0:\n",
    "        # 말단 category의 id와 이름을 담음\n",
    "        cat_id = row[~row.isnull()][-2]\n",
    "        cat_title = row[~row.isnull()][-1]\n",
    "        target_category_list.add((cat_id,cat_title))\n",
    "        \n",
    "target_category_list = list(target_category_list)\n",
    "\n",
    "# target_category_list에 해당하는 popular 브랜드 정보를 담음.\n",
    "bcp = Brand_crawl_parser(target_category_list)\n",
    "popular_brand_list = bcp.run()"
   ]
  },
  {
   "cell_type": "code",
   "execution_count": 282,
   "metadata": {},
   "outputs": [],
   "source": [
    "# 데이터를 DynamoDB에 Batch Insert하기\n",
    "\n",
    "table = dynamodb.Table(\"users\")\n",
    "with table.batch_writer() as batch:\n",
    "    for item in popular_brand_list:\n",
    "        batch.put_item(\n",
    "            Item={\n",
    "                \"user\" : \"데스커\",\n",
    "                \"category_id\" : int(item['cat_id']),\n",
    "                \"category_title\" : item['cat_title'],\n",
    "                \"brands\" : json.dumps(item['brand_list'])\n",
    "            }\n",
    "        )"
   ]
  },
  {
   "cell_type": "markdown",
   "metadata": {},
   "source": [
    "#### 3. 데이터 가져오기"
   ]
  },
  {
   "cell_type": "code",
   "execution_count": 283,
   "metadata": {},
   "outputs": [
    {
     "name": "stdout",
     "output_type": "stream",
     "text": [
      "[['146395', '시디즈'], ['54', '한샘'], ['27883', '제닉스'], ['1179', '듀오백'], ['186140', '다니카'], ['235112', '에이픽스'], ['196418', '한성컴퓨터'], ['146393', '파트라'], ['229839', '비애노'], ['235875', '유어체어스'], ['25058', '리바트이즈마인'], ['580', '에넥스'], ['13130', '에넥스에니'], ['150152', '3RSYS'], ['137382', '블루밍홈'], ['205548', '린백'], ['205442', '베스툴'], ['176160', '체스툴'], ['175741', '커세어'], ['138590', '채우리'], ['11087', '데코라인']]\n"
     ]
    }
   ],
   "source": [
    "# 데이터 한 개 가져오기\n",
    "response = table.get_item(\n",
    "    Key={\n",
    "        \"user\":\"데스커\",\n",
    "        \"category_id\":50003683\n",
    "    }\n",
    ")\n",
    "print(json.loads(response['Item']['brands']))"
   ]
  },
  {
   "cell_type": "code",
   "execution_count": 284,
   "metadata": {},
   "outputs": [
    {
     "name": "stdout",
     "output_type": "stream",
     "text": [
      "[{'category_title': '책상', 'brands': '[[\"444\", \"\\\\uc774\\\\ucf00\\\\uc544\"], [\"205684\", \"\\\\ub9c8\\\\ucf13\\\\ube44\"], [\"54\", \"\\\\ud55c\\\\uc0d8\"], [\"137382\", \"\\\\ube14\\\\ub8e8\\\\ubc0d\\\\ud648\"], [\"205696\", \"\\\\uc18c\\\\ud504\\\\uc2dc\\\\uc2a4\"], [\"138213\", \"e\\\\uc2a4\\\\ub9c8\\\\ud2b8\"], [\"25058\", \"\\\\ub9ac\\\\ubc14\\\\ud2b8\\\\uc774\\\\uc988\\\\ub9c8\\\\uc778\"], [\"207029\", \"\\\\uc544\\\\uce74\\\\uc2dc\\\\uc544\\\\ub9ac\\\\ube59\"], [\"218624\", \"\\\\ub370\\\\uc2a4\\\\ucee4\"], [\"38271\", \"\\\\ud504\\\\ub9ac\\\\uba54\\\\uc774\\\\ub4dc\"], [\"117922\", \"\\\\ube44\\\\uc559\\\\uc2a4\"], [\"200864\", \"\\\\ubbf8\\\\uc98c\\\\ud558\\\\uc784\"], [\"17222\", \"\\\\ud544\\\\uc6f0\"], [\"11087\", \"\\\\ub370\\\\ucf54\\\\ub77c\\\\uc778\"], [\"29922\", \"\\\\ub450\\\\ub2f7\"], [\"13761\", \"\\\\uc77c\\\\ub8f8\"], [\"144168\", \"\\\\uc544\\\\uce74\\\\uc2dc\\\\uc544\"], [\"214444\", \"\\\\ub354\\\\uc900\"], [\"137388\", \"\\\\ud30c\\\\ub780\\\\ub4e4\"], [\"174958\", \"\\\\uc5d0\\\\uadf8\\\\uc2a4\\\\ud0c0\"], [\"20635\", \"FM\\\\ub514\\\\uc790\\\\uc778\"]]', 'user': '데스커', 'category_id': Decimal('50001238')}, {'category_title': '의자', 'brands': '[[\"444\", \"\\\\uc774\\\\ucf00\\\\uc544\"], [\"146395\", \"\\\\uc2dc\\\\ub514\\\\uc988\"], [\"54\", \"\\\\ud55c\\\\uc0d8\"], [\"205684\", \"\\\\ub9c8\\\\ucf13\\\\ube44\"], [\"27883\", \"\\\\uc81c\\\\ub2c9\\\\uc2a4\"], [\"1179\", \"\\\\ub4c0\\\\uc624\\\\ubc31\"], [\"138209\", \"\\\\uc2dc\\\\ub2c8\\\\ud504\"], [\"80\", \"\\\\ud540\\\\ub780\\\\ub514\\\\uc544\"], [\"18031\", \"\\\\ub77c\\\\uafb8\\\\ub77c\\\\uafb8\"], [\"137382\", \"\\\\ube14\\\\ub8e8\\\\ubc0d\\\\ud648\"], [\"146393\", \"\\\\ud30c\\\\ud2b8\\\\ub77c\"], [\"572\", \"\\\\uc5d0\\\\ubcf4\\\\ub2c8\\\\uc544\"], [\"200276\", \"\\\\uc870\\\\uc138\\\\ud540\"], [\"117916\", \"\\\\ub8f8\\\\uc564\\\\ud648\"], [\"186140\", \"\\\\ub2e4\\\\ub2c8\\\\uce74\"], [\"25058\", \"\\\\ub9ac\\\\ubc14\\\\ud2b8\\\\uc774\\\\uc988\\\\ub9c8\\\\uc778\"], [\"235112\", \"\\\\uc5d0\\\\uc774\\\\ud53d\\\\uc2a4\"], [\"33435\", \"\\\\ud37c\\\\uc2dc\\\\uc2a4\"], [\"140625\", \"\\\\ub514\\\\uc13c\"], [\"217960\", \"\\\\ud788\\\\ub2e4\\\\ub9c8\\\\ub9ac\"], [\"196418\", \"\\\\ud55c\\\\uc131\\\\ucef4\\\\ud4e8\\\\ud130\"]]', 'user': '데스커', 'category_id': Decimal('50001239')}, {'category_title': '사무/교구용가구', 'brands': '[[\"444\", \"\\\\uc774\\\\ucf00\\\\uc544\"], [\"205684\", \"\\\\ub9c8\\\\ucf13\\\\ube44\"], [\"146395\", \"\\\\uc2dc\\\\ub514\\\\uc988\"], [\"33435\", \"\\\\ud37c\\\\uc2dc\\\\uc2a4\"], [\"54\", \"\\\\ud55c\\\\uc0d8\"], [\"186140\", \"\\\\ub2e4\\\\ub2c8\\\\uce74\"], [\"229839\", \"\\\\ube44\\\\uc560\\\\ub178\"], [\"580\", \"\\\\uc5d0\\\\ub125\\\\uc2a4\"], [\"205548\", \"\\\\ub9b0\\\\ubc31\"], [\"224384\", \"\\\\ub9ac\\\\ubc14\\\\ud2b8\\\\ud558\\\\uc6c0\"], [\"146393\", \"\\\\ud30c\\\\ud2b8\\\\ub77c\"], [\"137382\", \"\\\\ube14\\\\ub8e8\\\\ubc0d\\\\ud648\"], [\"205696\", \"\\\\uc18c\\\\ud504\\\\uc2dc\\\\uc2a4\"], [\"102605\", \"\\\\ud558\\\\uc774\\\\uc194\\\\ub85c\\\\ubaac\"], [\"1057\", \"\\\\ub9ac\\\\ubc14\\\\ud2b8\"], [\"143383\", \"\\\\ud4e8\\\\uc800\"], [\"176160\", \"\\\\uccb4\\\\uc2a4\\\\ud234\"], [\"27883\", \"\\\\uc81c\\\\ub2c9\\\\uc2a4\"], [\"235875\", \"\\\\uc720\\\\uc5b4\\\\uccb4\\\\uc5b4\\\\uc2a4\"], [\"20635\", \"FM\\\\ub514\\\\uc790\\\\uc778\"], [\"205442\", \"\\\\ubca0\\\\uc2a4\\\\ud234\"]]', 'user': '데스커', 'category_id': Decimal('50001240')}]\n"
     ]
    }
   ],
   "source": [
    "# 데이터 쿼리로 가져오기\n",
    "response = table.query(KeyConditionExpression=Key('user').eq('데스커'))\n",
    "items = response['Items']\n",
    "print(items[:3])"
   ]
  },
  {
   "cell_type": "code",
   "execution_count": 234,
   "metadata": {},
   "outputs": [],
   "source": [
    "# 데이터 스캔으로 가져오기\n",
    "response = table.scan()\n",
    "response['Items'];"
   ]
  }
 ],
 "metadata": {
  "kernelspec": {
   "display_name": "Python 3",
   "language": "python",
   "name": "python3"
  },
  "language_info": {
   "codemirror_mode": {
    "name": "ipython",
    "version": 3
   },
   "file_extension": ".py",
   "mimetype": "text/x-python",
   "name": "python",
   "nbconvert_exporter": "python",
   "pygments_lexer": "ipython3",
   "version": "3.6.4"
  }
 },
 "nbformat": 4,
 "nbformat_minor": 2
}
